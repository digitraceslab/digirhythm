{
 "cells": [
  {
   "cell_type": "code",
   "execution_count": 4,
   "metadata": {},
   "outputs": [
    {
     "name": "stderr",
     "output_type": "stream",
     "text": [
      "\n",
      "Please cite as: \n",
      "\n",
      "\n",
      " Hlavac, Marek (2022). stargazer: Well-Formatted Regression and Summary Statistics Tables.\n",
      "\n",
      " R package version 5.2.3. https://CRAN.R-project.org/package=stargazer \n",
      "\n",
      "\n"
     ]
    }
   ],
   "source": [
    "library(dplyr)\n",
    "library(lme4)\n",
    "library(car) # for VIF calculation\n",
    "library(tidyverse)\n",
    "library(boot)\n",
    "library(modelsummary)\n",
    "library(lmerTest)\n",
    "library(ggeffects)\n",
    "library(magrittr)\n",
    "library(broom)\n",
    "library(broom.mixed)\n",
    "library(sjPlot)\n",
    "library(sjmisc)\n",
    "library(sjlabelled)\n",
    "library(jtools)\n",
    "library(stargazer)\n",
    "set.seed(12696921)\n"
   ]
  },
  {
   "cell_type": "markdown",
   "metadata": {},
   "source": [
    "# CORONA"
   ]
  },
  {
   "cell_type": "code",
   "execution_count": 5,
   "metadata": {},
   "outputs": [
    {
     "data": {
      "text/plain": [
       "\u001b[4mMODEL INFO:\u001b[24m\n",
       "\u001b[3mObservations:\u001b[23m 115\n",
       "\u001b[3mDependent Variable:\u001b[23m DV\n",
       "\u001b[3mType:\u001b[23m OLS linear regression \n",
       "\n",
       "\u001b[4mMODEL FIT:\u001b[24m\n",
       "\u001b[3mF\u001b[23m(6,108) = 3.198, \u001b[3mp\u001b[23m = 0.006\n",
       "\u001b[3mR² = \u001b[23m0.151\n",
       "\u001b[3mAdj. R² = \u001b[23m0.104 \n",
       "\n",
       "\u001b[3mStandard errors: OLS\u001b[23m\n",
       "---------------------------------------------------------------------------\n",
       "                           Est.     2.5%    97.5%    t val.       p     VIF\n",
       "---------------------- -------- -------- -------- --------- ------- -------\n",
       "(Intercept)               0.680    0.669    0.690   125.246   0.000        \n",
       "age                       0.005    0.000    0.010     2.018   0.046   1.059\n",
       "origin                   -0.017   -0.030   -0.004    -2.509   0.014   1.415\n",
       "gender1                   0.005   -0.006    0.016     0.960   0.339   1.073\n",
       "occupation                0.014    0.002    0.027     2.362   0.020   1.482\n",
       "children_at_home          0.002   -0.003    0.007     0.934   0.352   1.016\n",
       "MEQ                       0.007    0.002    0.012     2.633   0.010   1.033\n",
       "---------------------------------------------------------------------------\n",
       "\n",
       "Continuous predictors are mean-centered and scaled by 1 s.d. The outcome variable remains in its original units."
      ]
     },
     "metadata": {},
     "output_type": "display_data"
    }
   ],
   "source": [
    "\n",
    "CORONA_INTERIM_PATH <- \"/m/cs/work/luongn1/digirhythm/data/interim/corona/\"\n",
    "CORONA_PROCESSED_PATH <- \"/m/cs/work/luongn1/digirhythm/data/processed/corona/\"\n",
    "\n",
    "\n",
    "SIMILARITY_PATH <- \"/m/cs/work/luongn1/digirhythm/data/processed/corona/similarity_matrix/\"\n",
    "\n",
    "# Read survey data\n",
    "survey <- read.csv(paste0(CORONA_INTERIM_PATH, \"survey_all.csv\"))\n",
    "\n",
    "# Filter out 'non-binary' gender\n",
    "survey <- survey %>% filter(gender != 'non-binary')\n",
    "\n",
    "# Read similarity data\n",
    "sim_baseline <- read.csv(paste0(SIMILARITY_PATH, \"si/similarity_baseline_4epochs.csv\"), row.names = 1)\n",
    "\n",
    "# Keep only necessary columns\n",
    "IVs <- c(\"subject_id\", \"age\", \"gender\", \"occupation\", \"origin\", \"children_at_home\", \"BIG5_Extraversion\", \"BIG5_Agreeableness\", \"BIG5_Conscientiousness\", \"BIG5_Neuroticism\", \"BIG5_Openness\", \"MEQ\")\n",
    "demographics_df <- survey %>% select(all_of(IVs)) %>% drop_na()\n",
    "\n",
    "# Calculate average similarity\n",
    "avg_sim_baseline <- rowMeans(sim_baseline, na.rm = TRUE)\n",
    "avg_sim_baseline <- data.frame(subject_id = rownames(sim_baseline), DV = avg_sim_baseline)\n",
    "\n",
    "# Merge datasets\n",
    "dataset <- merge(avg_sim_baseline, demographics_df, by = 'subject_id', all.x = TRUE)\n",
    "\n",
    "# Define a function to extract the coefficients\n",
    "boot_fn <- function(data, indices) {\n",
    "  d <- data[indices, ]  # Extract the bootstrapped sample\n",
    "  fit <- lm(DV ~ age + origin + occupation + children_at_home + MEQ, data = d)\n",
    "  return(coef(fit))\n",
    "}\n",
    "\n",
    "# Regression analysis with bootstrapping\n",
    "regression_analysis <- function(df, y, X) {\n",
    "  df <- df %>% drop_na()\n",
    "  model <- lm(as.formula(paste(y, \"~\", paste(X, collapse = \"+\"))), data = df)\n",
    "  vif_values <- vif(model)\n",
    "summ(model, scale=TRUE, vifs=TRUE, confint = TRUE, digits = 3)\n",
    "}\n",
    "\n",
    "# Run the analysis\n",
    "regression_analysis(dataset, \"DV\", c(\"age\", \"origin\", \"gender\", \"occupation\", \"children_at_home\", \"MEQ\"))\n"
   ]
  },
  {
   "cell_type": "markdown",
   "metadata": {},
   "source": [
    "# MOMO"
   ]
  },
  {
   "cell_type": "code",
   "execution_count": 6,
   "metadata": {},
   "outputs": [
    {
     "data": {
      "text/plain": [
       "\u001b[4mMODEL INFO:\u001b[24m\n",
       "\u001b[3mObservations:\u001b[23m 54\n",
       "\u001b[3mDependent Variable:\u001b[23m DV\n",
       "\u001b[3mType:\u001b[23m OLS linear regression \n",
       "\n",
       "\u001b[4mMODEL FIT:\u001b[24m\n",
       "\u001b[3mF\u001b[23m(7,46) = 0.780, \u001b[3mp\u001b[23m = 0.607\n",
       "\u001b[3mR² = \u001b[23m0.106\n",
       "\u001b[3mAdj. R² = \u001b[23m-0.030 \n",
       "\n",
       "\u001b[3mStandard errors: OLS\u001b[23m\n",
       "---------------------------------------------------------------------\n",
       "                       Est.     2.5%   97.5%   t val.       p     VIF\n",
       "------------------ -------- -------- ------- -------- ------- -------\n",
       "(Intercept)           0.640    0.598   0.683   30.251   0.000        \n",
       "bg_age                0.008   -0.006   0.022    1.198   0.237   1.130\n",
       "bg_sex                0.007   -0.027   0.042    0.422   0.675   1.136\n",
       "children             -0.011   -0.042   0.021   -0.670   0.506   1.304\n",
       "work                 -0.002   -0.033   0.030   -0.104   0.918   1.492\n",
       "groupmmm-bd          -0.037   -0.092   0.019   -1.336   0.188   2.043\n",
       "groupmmm-bpd         -0.002   -0.052   0.048   -0.080   0.936   2.043\n",
       "groupmmm-mdd         -0.001   -0.038   0.036   -0.043   0.966   2.043\n",
       "---------------------------------------------------------------------\n",
       "\n",
       "Continuous predictors are mean-centered and scaled by 1 s.d. The outcome variable remains in its original units."
      ]
     },
     "metadata": {},
     "output_type": "display_data"
    }
   ],
   "source": [
    "MOMO_INTERIM_PATH <- \"/m/cs/work/luongn1/digirhythm/data/interim/momo/\"\n",
    "MOMO_PROCESSED_PATH <- \"/m/cs/work/luongn1/digirhythm/data/processed/momo/\"\n",
    "\n",
    "MOMO_SIMILARITY_PATH <- \"/m/cs/work/luongn1/digirhythm/data/processed/momo/similarity_matrix/\"\n",
    "\n",
    "# Read survey data\n",
    "survey <- read.csv(paste0(MOMO_INTERIM_PATH, \"survey_all.csv\"))\n",
    "# Relevel\n",
    "survey$group <- as.factor(survey$group)\n",
    "survey <- within(survey, group <- relevel(group, ref = 'mmm-control'))\n",
    "\n",
    "# Read similarity data\n",
    "sim_baseline <- read.csv(paste0(MOMO_SIMILARITY_PATH, \"si/similarity_baseline_4epochs.csv\"), row.names = 1)\n",
    "\n",
    "# Keep only necessary columns\n",
    "IVs <- c(\"user\", \"bg_age\", \"bg_sex\", \"children\", \"work\", \"group\")\n",
    "demographics_df <- survey %>% select(all_of(IVs)) %>% drop_na()\n",
    "\n",
    "# Calculate average similarity\n",
    "avg_sim_baseline <- rowMeans(sim_baseline, na.rm = TRUE)\n",
    "avg_sim_baseline <- data.frame(user = rownames(sim_baseline), DV = avg_sim_baseline)\n",
    "\n",
    "# Merge datasets\n",
    "dataset <- merge(avg_sim_baseline, demographics_df, by = 'user', all.x = TRUE)\n",
    "\n",
    "# Define a function to extract the coefficients\n",
    "boot_fn <- function(data, indices) {\n",
    "  d <- data[indices, ]  # Extract the bootstrapped sample\n",
    "  fit <- lm(DV ~ age + origin + occupation + children_at_home + MEQ, data = d)\n",
    "  return(coef(fit))\n",
    "}\n",
    "\n",
    "# Regression analysis with bootstrapping\n",
    "regression_analysis <- function(df, y, X) {\n",
    "  df <- df %>% drop_na()\n",
    "  model <- lm(as.formula(paste(y, \"~\", paste(X, collapse = \"+\"))), data = df)\n",
    "  vif_values <- vif(model)\n",
    "summ(model, scale=TRUE, vifs=TRUE, confint = TRUE, digits = 3)\n",
    "}\n",
    "\n",
    "# Run the analysis\n",
    "regression_analysis(dataset, \"DV\", c(\"bg_age\", \"bg_sex\", \"children\", \"work\", \"group\"))\n"
   ]
  },
  {
   "cell_type": "code",
   "execution_count": 23,
   "metadata": {},
   "outputs": [
    {
     "data": {
      "text/plain": [
       "\n",
       " 0  1 \n",
       "51 27 "
      ]
     },
     "metadata": {},
     "output_type": "display_data"
    }
   ],
   "source": [
    "table(survey$work_regular)\n",
    "#colnames(survey)"
   ]
  },
  {
   "cell_type": "markdown",
   "metadata": {},
   "source": [
    "# Wellbeing ~ Regularity"
   ]
  },
  {
   "cell_type": "code",
   "execution_count": 16,
   "metadata": {},
   "outputs": [
    {
     "name": "stderr",
     "output_type": "stream",
     "text": [
      "fixed-effect model matrix is rank deficient so dropping 1 column / coefficient\n",
      "\n",
      "fixed-effect model matrix is rank deficient so dropping 1 column / coefficient\n",
      "\n",
      "fixed-effect model matrix is rank deficient so dropping 1 column / coefficient\n",
      "\n"
     ]
    },
    {
     "name": "stdout",
     "output_type": "stream",
     "text": [
      "\n",
      "% Table created by stargazer v.5.2.3 by Marek Hlavac, Social Policy Institute. E-mail: marek.hlavac at gmail.com\n",
      "% Date and time: Wed, Apr 10, 2024 - 10:29:51\n",
      "\\begin{table}[!htbp] \\centering \n",
      "  \\caption{} \n",
      "  \\label{} \n",
      "\\begin{tabular}{@{\\extracolsep{5pt}}lc} \n",
      "\\\\[-1.8ex]\\hline \n",
      "\\hline \\\\[-1.8ex] \n",
      " & \\multicolumn{1}{c}{\\textit{Dependent variable:}} \\\\ \n",
      "\\cline{2-2} \n",
      "\\\\[-1.8ex] & PHQ \\\\ \n",
      "\\hline \\\\[-1.8ex] \n",
      " baseline\\_similarity & $-$0.656 \\\\ \n",
      "  & (0.735) \\\\ \n",
      "  & \\\\ \n",
      " steps.night.7ds.sum.norm & $-$1.005 \\\\ \n",
      "  & (1.382) \\\\ \n",
      "  & \\\\ \n",
      " steps.morning.7ds.sum.norm & $-$1.330$^{***}$ \\\\ \n",
      "  & (0.513) \\\\ \n",
      "  & \\\\ \n",
      " steps.afternoon.7ds.sum.norm & $-$0.495 \\\\ \n",
      "  & (0.443) \\\\ \n",
      "  & \\\\ \n",
      " steps.total.norm & $-$0.957$^{***}$ \\\\ \n",
      "  & (0.249) \\\\ \n",
      "  & \\\\ \n",
      " tst.norm.mean & $-$0.558 \\\\ \n",
      "  & (0.473) \\\\ \n",
      "  & \\\\ \n",
      " midsleep.norm.mean & $-$0.886$^{**}$ \\\\ \n",
      "  & (0.396) \\\\ \n",
      "  & \\\\ \n",
      " heart\\_rate\\_variability\\_avg.mean.norm & $-$0.361$^{**}$ \\\\ \n",
      "  & (0.174) \\\\ \n",
      "  & \\\\ \n",
      " age.norm & $-$0.504 \\\\ \n",
      "  & (0.786) \\\\ \n",
      "  & \\\\ \n",
      " gender & 0.016 \\\\ \n",
      "  & (0.179) \\\\ \n",
      "  & \\\\ \n",
      " occupation & $-$0.280 \\\\ \n",
      "  & (0.198) \\\\ \n",
      "  & \\\\ \n",
      " origin & 0.327 \\\\ \n",
      "  & (0.213) \\\\ \n",
      "  & \\\\ \n",
      " Constant & 3.988$^{***}$ \\\\ \n",
      "  & (0.944) \\\\ \n",
      "  & \\\\ \n",
      "\\hline \\\\[-1.8ex] \n",
      "Observations & 803 \\\\ \n",
      "Log Likelihood & $-$1,175.805 \\\\ \n",
      "Akaike Inf. Crit. & 2,381.610 \\\\ \n",
      "Bayesian Inf. Crit. & 2,451.935 \\\\ \n",
      "\\hline \n",
      "\\hline \\\\[-1.8ex] \n",
      "\\textit{Note:}  & \\multicolumn{1}{r}{$^{*}$p$<$0.1; $^{**}$p$<$0.05; $^{***}$p$<$0.01} \\\\ \n",
      "\\end{tabular} \n",
      "\\end{table} \n"
     ]
    }
   ],
   "source": [
    "create_formula <- function(dv, frequency) {\n",
    "  formula_str <- sprintf(\n",
    "    '%s ~ 1 + \n",
    "    baseline_similarity +\n",
    "    steps.night.%s.sum.norm + steps.morning.%s.sum.norm + steps.afternoon.%s.sum.norm + steps.evening.%s.sum.norm +\n",
    "    steps.total.norm +\n",
    "    tst.norm.mean + \n",
    "    midsleep.norm.mean + \n",
    "    heart_rate_variability_avg.mean.norm + \n",
    "    age.norm + gender + occupation + origin +\n",
    "    (1|subject_id)',\n",
    "    dv, frequency, frequency, frequency, frequency\n",
    "  )\n",
    "  \n",
    "  as.formula(formula_str)\n",
    "}\n",
    "\n",
    "frequency <- '7ds'\n",
    "\n",
    "# Read survey data\n",
    "data <- read.csv(paste0(CORONA_PROCESSED_PATH, sprintf(\"%s_regularity_wellbeing.csv\", frequency) ))\n",
    "\n",
    "# Fitting the model for y1 with a random intercept for 'subject'\n",
    "# Define the formula\n",
    "formula1 <- create_formula('PHQ', frequency)\n",
    "\n",
    "formula2 <- create_formula('PSS', frequency)\n",
    "\n",
    "formula3 <- create_formula('PSQI', frequency)\n",
    "\n",
    "\n",
    "# Fit the linear mixed-effects model\n",
    "fit1 <- lmer(formula1, data = data)\n",
    "fit2 <- lmer(formula2, data = data)\n",
    "fit3 <- lmer(formula3, data = data)\n",
    "\n",
    "# Display the summary of the model fit\n",
    "tab_model(fit1, fit2, fit3,\n",
    "         show.r2 = TRUE,\n",
    "    show.icc = FALSE,\n",
    "    show.re.var = FALSE,\n",
    "    emph.p = TRUE,\n",
    "    file = sprintf(\"%s_wellbeing_reg.html\", frequency))\n",
    "\n",
    "class(fit1) <- \"lmerMod\"\n",
    "stargazer(fit1, out='4.tex')"
   ]
  },
  {
   "cell_type": "code",
   "execution_count": 14,
   "metadata": {},
   "outputs": [
    {
     "data": {
      "text/html": [
       "<strong>png:</strong> 2"
      ],
      "text/latex": [
       "\\textbf{png:} 2"
      ],
      "text/markdown": [
       "**png:** 2"
      ],
      "text/plain": [
       "png \n",
       "  2 "
      ]
     },
     "metadata": {},
     "output_type": "display_data"
    }
   ],
   "source": [
    "labels = rev(c(\"Baseline similarity\", \"Steps:Night\", \"Steps:Morning\", \n",
    "           \"Steps:Afternoon\", \"Steps:Evening\", \"Total steps\", \"Total sleep time\",\n",
    "           \"Midsleep\", \"HRV\", \"Age\", \"Gender\", \"Occupation\", \"Origin\"))\n",
    "\n",
    "fplot <- plot_models(\n",
    "  fit1, fit2, fit3,\n",
    "#  axis.labels = labels,\n",
    "  m.labels = c(\"PHQ\", \"PSS\", \"PSQI\"),\n",
    "     p.shape = TRUE\n",
    ")\n",
    "save_plot('forestplot.png', fplot)"
   ]
  },
  {
   "cell_type": "code",
   "execution_count": 48,
   "metadata": {},
   "outputs": [
    {
     "data": {
      "text/html": [
       "'$r$ = -.06, $CI_{95\\\\%}$ = [-.13, .02]'"
      ],
      "text/latex": [
       "'\\$r\\$ = -.06, \\$CI\\_\\{95\\textbackslash{}\\textbackslash{}\\%\\}\\$ = {[}-.13, .02{]}'"
      ],
      "text/markdown": [
       "'$r$ = -.06, $CI_{95\\\\%}$ = [-.13, .02]'"
      ],
      "text/plain": [
       "[1] \"$r$ = -.06, $CI_{95\\\\%}$ = [-.13, .02]\""
      ]
     },
     "metadata": {},
     "output_type": "display_data"
    }
   ],
   "source": [
    "pearsonboot = function(var1, data, indices,...) # indices needs to be supplied to boot function\n",
    "{\n",
    "  d1 = data[var1][indices,]\n",
    "  d2 = data[indices,]\n",
    "\n",
    "  pear = cor(x = d1, y = d2, use = \"pairwise.complete.obs\", method = \"pearson\")\n",
    "  pear = pear[2:length(pear)]\n",
    "\n",
    "  return(pear)\n",
    "}\n",
    "\n",
    "cormat = data.frame(data$PSS, data$PHQ, data$PSQI, data$baseline_similarity)\n",
    "boots = boot(data = cormat[c(\"data.PSQI\", \"data.baseline_similarity\")], pearsonboot, R = 1000, var1 = \"data.PSQI\")\n",
    "bootsCI = boot.ci(boots, type = \"perc\")\n",
    "bootsCI = round(c(bootsCI$t0, bootsCI$percent[4],bootsCI$percent[5]), digits = 2)\n",
    "bootsCI = paste0(\"$r$ = \", bootsCI[1], \", $CI_{95\\\\%}$ = [\", bootsCI[2], \", \", bootsCI[3], \"]\")\n",
    "EES = gsub(\"0*\\\\.\",\".\", bootsCI)\n",
    "EES"
   ]
  },
  {
   "cell_type": "code",
   "execution_count": 40,
   "metadata": {},
   "outputs": [
    {
     "data": {
      "text/html": [
       "<style>\n",
       ".list-inline {list-style: none; margin:0; padding: 0}\n",
       ".list-inline>li {display: inline-block}\n",
       ".list-inline>li:not(:last-child)::after {content: \"\\00b7\"; padding: 0 .5ex}\n",
       "</style>\n",
       "<ol class=list-inline><li>'data.PSS'</li><li>'data.PHQ'</li><li>'data.PSQI'</li><li>'data.baseline_similarity'</li></ol>\n"
      ],
      "text/latex": [
       "\\begin{enumerate*}\n",
       "\\item 'data.PSS'\n",
       "\\item 'data.PHQ'\n",
       "\\item 'data.PSQI'\n",
       "\\item 'data.baseline\\_similarity'\n",
       "\\end{enumerate*}\n"
      ],
      "text/markdown": [
       "1. 'data.PSS'\n",
       "2. 'data.PHQ'\n",
       "3. 'data.PSQI'\n",
       "4. 'data.baseline_similarity'\n",
       "\n",
       "\n"
      ],
      "text/plain": [
       "[1] \"data.PSS\"                 \"data.PHQ\"                \n",
       "[3] \"data.PSQI\"                \"data.baseline_similarity\""
      ]
     },
     "metadata": {},
     "output_type": "display_data"
    }
   ],
   "source": [
    "colnames(cormat)"
   ]
  },
  {
   "cell_type": "code",
   "execution_count": null,
   "metadata": {},
   "outputs": [],
   "source": []
  }
 ],
 "metadata": {
  "kernelspec": {
   "display_name": "4.3.0",
   "language": "R",
   "name": "r-4.3.0"
  },
  "language_info": {
   "codemirror_mode": "r",
   "file_extension": ".r",
   "mimetype": "text/x-r-source",
   "name": "R",
   "pygments_lexer": "r",
   "version": "4.3.3"
  }
 },
 "nbformat": 4,
 "nbformat_minor": 4
}
