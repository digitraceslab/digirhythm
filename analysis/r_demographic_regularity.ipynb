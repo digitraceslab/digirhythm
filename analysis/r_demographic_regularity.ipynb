{
 "cells": [
  {
   "cell_type": "code",
   "execution_count": 30,
   "metadata": {},
   "outputs": [
    {
     "data": {
      "text/plain": [
       "\u001b[4mMODEL INFO:\u001b[24m\n",
       "\u001b[3mObservations:\u001b[23m 115\n",
       "\u001b[3mDependent Variable:\u001b[23m DV\n",
       "\u001b[3mType:\u001b[23m OLS linear regression \n",
       "\n",
       "\u001b[4mMODEL FIT:\u001b[24m\n",
       "\u001b[3mF\u001b[23m(6,108) = 3.198, \u001b[3mp\u001b[23m = 0.006\n",
       "\u001b[3mR² = \u001b[23m0.151\n",
       "\u001b[3mAdj. R² = \u001b[23m0.104 \n",
       "\n",
       "\u001b[3mStandard errors: OLS\u001b[23m\n",
       "---------------------------------------------------------------------------\n",
       "                           Est.     2.5%    97.5%    t val.       p     VIF\n",
       "---------------------- -------- -------- -------- --------- ------- -------\n",
       "(Intercept)               0.680    0.669    0.690   125.246   0.000        \n",
       "age                       0.005    0.000    0.010     2.018   0.046   1.059\n",
       "origin                   -0.017   -0.030   -0.004    -2.509   0.014   1.415\n",
       "gender1                   0.005   -0.006    0.016     0.960   0.339   1.073\n",
       "occupation                0.014    0.002    0.027     2.362   0.020   1.482\n",
       "children_at_home          0.002   -0.003    0.007     0.934   0.352   1.016\n",
       "MEQ                       0.007    0.002    0.012     2.633   0.010   1.033\n",
       "---------------------------------------------------------------------------\n",
       "\n",
       "Continuous predictors are mean-centered and scaled by 1 s.d. The outcome variable remains in its original units."
      ]
     },
     "metadata": {},
     "output_type": "display_data"
    }
   ],
   "source": [
    "library(dplyr)\n",
    "library(lme4)\n",
    "library(car) # for VIF calculation\n",
    "library(tidyverse)\n",
    "library(boot)\n",
    "library(modelsummary)\n",
    "library(lmerTest)\n",
    "library(ggeffects)\n",
    "library(magrittr)\n",
    "library(broom)\n",
    "library(broom.mixed)\n",
    "library(sjPlot)\n",
    "library(sjmisc)\n",
    "library(sjlabelled)\n",
    "library(jtools)\n",
    "set.seed(12696921)\n",
    "\n",
    "CORONA_INTERIM_PATH <- \"/m/cs/work/luongn1/digirhythm/data/interim/corona/\"\n",
    "CORONA_PROCESSED_PATH <- \"/m/cs/work/luongn1/digirhythm/data/processed/corona/\"\n",
    "SIMILARITY_PATH <- \"/m/cs/work/luongn1/digirhythm/data/processed/corona/similarity_matrix/\"\n",
    "\n",
    "# Read survey data\n",
    "survey <- read.csv(paste0(CORONA_INTERIM_PATH, \"survey_all.csv\"))\n",
    "\n",
    "# Filter out 'non-binary' gender\n",
    "survey <- survey %>% filter(gender != 'non-binary')\n",
    "\n",
    "# Read similarity data\n",
    "sim_baseline <- read.csv(paste0(SIMILARITY_PATH, \"si/similarity_baseline_4epochs.csv\"), row.names = 1)\n",
    "\n",
    "# Keep only necessary columns\n",
    "IVs <- c(\"subject_id\", \"age\", \"gender\", \"occupation\", \"origin\", \"children_at_home\", \"BIG5_Extraversion\", \"BIG5_Agreeableness\", \"BIG5_Conscientiousness\", \"BIG5_Neuroticism\", \"BIG5_Openness\", \"MEQ\")\n",
    "demographics_df <- survey %>% select(all_of(IVs)) %>% drop_na()\n",
    "\n",
    "# Calculate average similarity\n",
    "avg_sim_baseline <- rowMeans(sim_baseline, na.rm = TRUE)\n",
    "avg_sim_baseline <- data.frame(subject_id = rownames(sim_baseline), DV = avg_sim_baseline)\n",
    "\n",
    "# Merge datasets\n",
    "dataset <- merge(avg_sim_baseline, demographics_df, by = 'subject_id', all.x = TRUE)\n",
    "\n",
    "# Define a function to extract the coefficients\n",
    "boot_fn <- function(data, indices) {\n",
    "  d <- data[indices, ]  # Extract the bootstrapped sample\n",
    "  fit <- lm(DV ~ age + origin + occupation + children_at_home + MEQ, data = d)\n",
    "  return(coef(fit))\n",
    "}\n",
    "\n",
    "# Regression analysis with bootstrapping\n",
    "regression_analysis <- function(df, y, X) {\n",
    "  df <- df %>% drop_na()\n",
    "  model <- lm(as.formula(paste(y, \"~\", paste(X, collapse = \"+\"))), data = df)\n",
    "  vif_values <- vif(model)\n",
    "summ(model, scale=TRUE, vifs=TRUE, confint = TRUE, digits = 3)\n",
    "}\n",
    "\n",
    "# Run the analysis\n",
    "regression_analysis(dataset, \"DV\", c(\"age\", \"origin\", \"gender\", \"occupation\", \"children_at_home\", \"MEQ\"))\n"
   ]
  },
  {
   "cell_type": "code",
   "execution_count": 31,
   "metadata": {},
   "outputs": [
    {
     "name": "stderr",
     "output_type": "stream",
     "text": [
      "fixed-effect model matrix is rank deficient so dropping 1 column / coefficient\n",
      "\n",
      "fixed-effect model matrix is rank deficient so dropping 1 column / coefficient\n",
      "\n",
      "fixed-effect model matrix is rank deficient so dropping 1 column / coefficient\n",
      "\n"
     ]
    }
   ],
   "source": [
    "# Read survey data\n",
    "data <- read.csv(paste0(CORONA_PROCESSED_PATH, \"14ds_regularity_wellbeing.csv\"))\n",
    "\n",
    "# Fitting the model for y1 with a random intercept for 'subject'\n",
    "# Define the formula\n",
    "formula1 <- 'PHQ ~ 1 + \n",
    "baseline_similarity +\n",
    "steps.night.14ds.sum.norm + steps.morning.14ds.sum.norm + steps.afternoon.14ds.sum.norm + steps.evening.14ds.sum.norm +\n",
    "  steps.total.norm +\n",
    "  tst.norm.mean + \n",
    "  midsleep.norm.mean + \n",
    "  heart_rate_variability_avg.mean.norm + \n",
    "age.norm + gender + occupation + origin +\n",
    "  (1|subject_id)'\n",
    "\n",
    "formula2 <- 'PSS ~ 1 + \n",
    "baseline_similarity +\n",
    "steps.night.14ds.sum.norm + steps.morning.14ds.sum.norm + steps.afternoon.14ds.sum.norm + steps.evening.14ds.sum.norm +\n",
    "  steps.total.norm +\n",
    "  tst.norm.mean + \n",
    "  midsleep.norm.mean + \n",
    "  heart_rate_variability_avg.mean.norm + \n",
    "age.norm + gender + occupation + origin +\n",
    "  (1|subject_id)'\n",
    "formula3 <- 'PSQI ~ 1 + \n",
    "baseline_similarity +\n",
    "steps.night.14ds.sum.norm + steps.morning.14ds.sum.norm + steps.afternoon.14ds.sum.norm + steps.evening.14ds.sum.norm +\n",
    "  steps.total.norm +\n",
    "  tst.norm.mean + \n",
    "  midsleep.norm.mean + \n",
    "  heart_rate_variability_avg.mean.norm + \n",
    "age.norm + gender + occupation  + origin +\n",
    "  (1|subject_id)'\n",
    "\n",
    "\n",
    "# Fit the linear mixed-effects model\n",
    "fit1 <- lmer(formula1, data = data)\n",
    "fit2 <- lmer(formula2, data = data)\n",
    "fit3 <- lmer(formula3, data = data)\n",
    "\n",
    "# Display the summary of the model fit\n",
    "tab_model(fit1, fit2, fit3,\n",
    "         show.r2 = TRUE,\n",
    "    show.icc = FALSE,\n",
    "    show.re.var = FALSE,\n",
    "    emph.p = TRUE,\n",
    "    file = \"temp.html\")"
   ]
  },
  {
   "cell_type": "code",
   "execution_count": 32,
   "metadata": {},
   "outputs": [
    {
     "data": {
      "text/html": [
       "<strong>png:</strong> 2"
      ],
      "text/latex": [
       "\\textbf{png:} 2"
      ],
      "text/markdown": [
       "**png:** 2"
      ],
      "text/plain": [
       "png \n",
       "  2 "
      ]
     },
     "metadata": {},
     "output_type": "display_data"
    }
   ],
   "source": [
    "labels = rev(c(\"Baseline similarity\", \"Steps:Night\", \"Steps:Morning\", \n",
    "           \"Steps:Afternoon\", \"Steps:Evening\", \"Total steps\", \"Total sleep time\",\n",
    "           \"Midsleep\", \"HRV\", \"Age\", \"Gender\", \"Occupation\", \"Origin\"))\n",
    "\n",
    "fplot <- plot_models(\n",
    "  fit1, fit2, fit3,\n",
    "  axis.labels = labels,\n",
    "  m.labels = c(\"PHQ\", \"PSS\", \"PSQI\"),\n",
    "     p.shape = TRUE\n",
    ")\n",
    "save_plot('forestplot.png', fplot)"
   ]
  },
  {
   "cell_type": "code",
   "execution_count": 46,
   "metadata": {},
   "outputs": [
    {
     "data": {
      "text/html": [
       "'$r$ = -.06, $CI_{95\\\\%}$ = [-.13, .01]'"
      ],
      "text/latex": [
       "'\\$r\\$ = -.06, \\$CI\\_\\{95\\textbackslash{}\\textbackslash{}\\%\\}\\$ = {[}-.13, .01{]}'"
      ],
      "text/markdown": [
       "'$r$ = -.06, $CI_{95\\\\%}$ = [-.13, .01]'"
      ],
      "text/plain": [
       "[1] \"$r$ = -.06, $CI_{95\\\\%}$ = [-.13, .01]\""
      ]
     },
     "metadata": {},
     "output_type": "display_data"
    }
   ],
   "source": [
    "pearsonboot = function(var1, data, indices,...) # indices needs to be supplied to boot function\n",
    "{\n",
    "  d1 = data[var1][indices,]\n",
    "  d2 = data[indices,]\n",
    "\n",
    "  pear = cor(x = d1, y = d2, use = \"pairwise.complete.obs\", method = \"pearson\")\n",
    "  pear = pear[2:length(pear)]\n",
    "\n",
    "  return(pear)\n",
    "}\n",
    "\n",
    "cormat = data.frame(data$PSS, data$PHQ, data$PSQI, data$baseline_similarity)\n",
    "boots = boot(data = cormat[c(\"data.PSS\", \"data.baseline_similarity\")], pearsonboot, R = 1000, var1 = \"data.PSS\")\n",
    "bootsCI = boot.ci(boots, type = \"perc\")\n",
    "bootsCI = round(c(bootsCI$t0, bootsCI$percent[4],bootsCI$percent[5]), digits = 2)\n",
    "bootsCI = paste0(\"$r$ = \", bootsCI[1], \", $CI_{95\\\\%}$ = [\", bootsCI[2], \", \", bootsCI[3], \"]\")\n",
    "EES = gsub(\"0*\\\\.\",\".\", bootsCI)\n",
    "EES"
   ]
  },
  {
   "cell_type": "code",
   "execution_count": 40,
   "metadata": {},
   "outputs": [
    {
     "data": {
      "text/html": [
       "<style>\n",
       ".list-inline {list-style: none; margin:0; padding: 0}\n",
       ".list-inline>li {display: inline-block}\n",
       ".list-inline>li:not(:last-child)::after {content: \"\\00b7\"; padding: 0 .5ex}\n",
       "</style>\n",
       "<ol class=list-inline><li>'data.PSS'</li><li>'data.PHQ'</li><li>'data.PSQI'</li><li>'data.baseline_similarity'</li></ol>\n"
      ],
      "text/latex": [
       "\\begin{enumerate*}\n",
       "\\item 'data.PSS'\n",
       "\\item 'data.PHQ'\n",
       "\\item 'data.PSQI'\n",
       "\\item 'data.baseline\\_similarity'\n",
       "\\end{enumerate*}\n"
      ],
      "text/markdown": [
       "1. 'data.PSS'\n",
       "2. 'data.PHQ'\n",
       "3. 'data.PSQI'\n",
       "4. 'data.baseline_similarity'\n",
       "\n",
       "\n"
      ],
      "text/plain": [
       "[1] \"data.PSS\"                 \"data.PHQ\"                \n",
       "[3] \"data.PSQI\"                \"data.baseline_similarity\""
      ]
     },
     "metadata": {},
     "output_type": "display_data"
    }
   ],
   "source": [
    "colnames(cormat)"
   ]
  },
  {
   "cell_type": "code",
   "execution_count": null,
   "metadata": {},
   "outputs": [],
   "source": []
  }
 ],
 "metadata": {
  "kernelspec": {
   "display_name": "4.3.0",
   "language": "R",
   "name": "r-4.3.0"
  },
  "language_info": {
   "codemirror_mode": "r",
   "file_extension": ".r",
   "mimetype": "text/x-r-source",
   "name": "R",
   "pygments_lexer": "r",
   "version": "4.3.3"
  }
 },
 "nbformat": 4,
 "nbformat_minor": 4
}
