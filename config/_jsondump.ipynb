{
 "cells": [
  {
   "cell_type": "code",
   "execution_count": 3,
   "metadata": {},
   "outputs": [],
   "source": [
    "import json\n",
    "\n",
    "features_dict = {\n",
    "    \"corona\": {\n",
    "        \"4epochs\": [\n",
    "            \"heart_rate_variability_avg:norm\",\n",
    "            \"stepsx1000:total:norm\",\n",
    "            \"steps:night:norm\",\n",
    "            \"steps:morning:norm\",\n",
    "            \"steps:afternoon:norm\",\n",
    "            \"steps:evening:norm\",\n",
    "            \"tst:norm\",\n",
    "            \"midsleep:norm\",\n",
    "        ],\n",
    "        \"7ds\": [\n",
    "            \"steps:night:7ds:sum:norm\",\n",
    "            \"steps:morning:7ds:sum:norm\",\n",
    "            \"steps:afternoon:7ds:sum:norm\",\n",
    "            \"steps:evening:7ds:sum:norm\",\n",
    "            \"tst:norm:mean\",\n",
    "            \"midsleep:norm:mean\",\n",
    "            \"heart_rate_variability_avg:mean:norm\",\n",
    "        ],\n",
    "        \"14ds\": [\n",
    "            \"steps:night:14ds:sum:norm\",\n",
    "            \"steps:morning:14ds:sum:norm\",\n",
    "            \"steps:afternoon:14ds:sum:norm\",\n",
    "            \"steps:evening:14ds:sum:norm\",\n",
    "            \"tst:mean\",\n",
    "            \"midsleep:mean\",\n",
    "            \"heart_rate_variability_avg:mean\",\n",
    "        ],\n",
    "    },\n",
    "    \"momo\": {\n",
    "        \"4epochs\": [\n",
    "            \"location:n_sps:norm\",\n",
    "            \"location:entropy:norm\",\n",
    "            \"location:log_variance:norm\",\n",
    "            \"location:proportion_home\",\n",
    "            \"application:count:comm:night:norm\",\n",
    "            \"application:count:comm:morning:norm\",\n",
    "            \"application:count:comm:afternoon:norm\",\n",
    "            \"application:count:comm:evening:norm\",\n",
    "            \"application:duration:comm:total:norm\",\n",
    "            \"screen:screen_use_durationtotal:sum:norm\",\n",
    "        ],\n",
    "        \"7ds\": [],\n",
    "        \"14ds\": [],\n",
    "    },\n",
    "}\n",
    "\n",
    "json.dump(features_dict, open(\"features.txt\", \"w\"), indent=2)"
   ]
  },
  {
   "cell_type": "code",
   "execution_count": 1,
   "metadata": {},
   "outputs": [
    {
     "name": "stdout",
     "output_type": "stream",
     "text": [
      "index\n",
      "date\n",
      "device\n",
      "user\n",
      "location:dist_total\n",
      "location:n_bins\n",
      "location:speed_average\n",
      "location:speed_variance\n",
      "location:speed_max\n",
      "location:variance\n",
      "location:log_variance\n",
      "location:n_sps\n",
      "location:n_static\n",
      "location:n_moving\n",
      "location:n_rare\n",
      "location:n_home\n",
      "location:max_dist_home\n",
      "location:n_transitions\n",
      "location:n_top1\n",
      "location:n_top2\n",
      "location:n_top3\n",
      "location:n_top4\n",
      "location:n_top5\n",
      "location:entropy\n",
      "location:normalized_entropy\n",
      "location:group\n",
      "date.1\n"
     ]
    }
   ],
   "source": [
    "import pandas as pd\n",
    "\n",
    "path = \"../data/interim/momo/location_4epochs.csv\"\n",
    "f = pd.read_csv(path)\n",
    "\n",
    "for col in f.columns:\n",
    "    print(col)\n",
    "# (f['application:count:comm:morning:norm'] / 3600).hist()"
   ]
  },
  {
   "cell_type": "code",
   "execution_count": null,
   "metadata": {},
   "outputs": [],
   "source": []
  }
 ],
 "metadata": {
  "kernelspec": {
   "display_name": "Python 3",
   "language": "python",
   "name": "python3"
  },
  "language_info": {
   "codemirror_mode": {
    "name": "ipython",
    "version": 3
   },
   "file_extension": ".py",
   "mimetype": "text/x-python",
   "name": "python",
   "nbconvert_exporter": "python",
   "pygments_lexer": "ipython3",
   "version": "3.6.8"
  }
 },
 "nbformat": 4,
 "nbformat_minor": 4
}
