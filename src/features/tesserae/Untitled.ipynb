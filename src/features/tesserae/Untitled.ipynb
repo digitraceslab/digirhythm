{
 "cells": [
  {
   "cell_type": "code",
   "execution_count": 11,
   "id": "109a5b72-e469-41ff-be64-52d46a9bf734",
   "metadata": {},
   "outputs": [],
   "source": [
    "import sys\n",
    "sys.path.append(\"../../../\")\n",
    "import polars as pl\n",
    "from config import PATHS\n",
    "import sqlite3"
   ]
  },
  {
   "cell_type": "code",
   "execution_count": 12,
   "id": "262100ac-9c5e-414f-baaf-d9fa8f84429c",
   "metadata": {},
   "outputs": [],
   "source": [
    "conn = sqlite3.connect(PATHS['mmm-control']['actiwatchfull'])\n",
    "df = pl.read_database(\n",
    "    query=\"SELECT * FROM 'actiwatchfull'\", \n",
    "    connection=conn\n",
    ")  "
   ]
  },
  {
   "cell_type": "code",
   "execution_count": 13,
   "id": "0d63079d-1779-418f-93e7-a769babcb519",
   "metadata": {},
   "outputs": [
    {
     "data": {
      "text/html": [
       "<div><style>\n",
       ".dataframe > thead > tr,\n",
       ".dataframe > tbody > tr {\n",
       "  text-align: right;\n",
       "  white-space: pre-wrap;\n",
       "}\n",
       "</style>\n",
       "<small>shape: (5, 10)</small><table border=\"1\" class=\"dataframe\"><thead><tr><th>user</th><th>device</th><th>time</th><th>time_str</th><th>line</th><th>activity</th><th>marker</th><th>white light</th><th>sleepwake</th><th>intervalstatus</th></tr><tr><td>str</td><td>str</td><td>f64</td><td>str</td><td>i64</td><td>i64</td><td>i64</td><td>f64</td><td>f64</td><td>str</td></tr></thead><tbody><tr><td>&quot;FMC60D-Aoejq&quot;</td><td>&quot;ruL_Ha2MKb46&quot;</td><td>1.5489e9</td><td>&quot;2019-01-31 14:00:00&quot;</td><td>1</td><td>345</td><td>0</td><td>1.14</td><td>null</td><td>&quot;ACTIVE&quot;</td></tr><tr><td>&quot;FMC60D-Aoejq&quot;</td><td>&quot;ruL_Ha2MKb46&quot;</td><td>1.5489e9</td><td>&quot;2019-01-31 14:00:30&quot;</td><td>2</td><td>303</td><td>0</td><td>1.09</td><td>null</td><td>&quot;ACTIVE&quot;</td></tr><tr><td>&quot;FMC60D-Aoejq&quot;</td><td>&quot;ruL_Ha2MKb46&quot;</td><td>1.5489e9</td><td>&quot;2019-01-31 14:01:00&quot;</td><td>3</td><td>128</td><td>0</td><td>1.0</td><td>null</td><td>&quot;ACTIVE&quot;</td></tr><tr><td>&quot;FMC60D-Aoejq&quot;</td><td>&quot;ruL_Ha2MKb46&quot;</td><td>1.5489e9</td><td>&quot;2019-01-31 14:01:30&quot;</td><td>4</td><td>14</td><td>0</td><td>0.86</td><td>null</td><td>&quot;ACTIVE&quot;</td></tr><tr><td>&quot;FMC60D-Aoejq&quot;</td><td>&quot;ruL_Ha2MKb46&quot;</td><td>1.5489e9</td><td>&quot;2019-01-31 14:02:00&quot;</td><td>5</td><td>170</td><td>0</td><td>1.11</td><td>1.0</td><td>&quot;ACTIVE&quot;</td></tr></tbody></table></div>"
      ],
      "text/plain": [
       "shape: (5, 10)\n",
       "┌─────────────┬─────────────┬──────────┬─────────────┬───┬────────┬───────┬───────────┬────────────┐\n",
       "│ user        ┆ device      ┆ time     ┆ time_str    ┆ … ┆ marker ┆ white ┆ sleepwake ┆ intervalst │\n",
       "│ ---         ┆ ---         ┆ ---      ┆ ---         ┆   ┆ ---    ┆ light ┆ ---       ┆ atus       │\n",
       "│ str         ┆ str         ┆ f64      ┆ str         ┆   ┆ i64    ┆ ---   ┆ f64       ┆ ---        │\n",
       "│             ┆             ┆          ┆             ┆   ┆        ┆ f64   ┆           ┆ str        │\n",
       "╞═════════════╪═════════════╪══════════╪═════════════╪═══╪════════╪═══════╪═══════════╪════════════╡\n",
       "│ FMC60D-Aoej ┆ ruL_Ha2MKb4 ┆ 1.5489e9 ┆ 2019-01-31  ┆ … ┆ 0      ┆ 1.14  ┆ null      ┆ ACTIVE     │\n",
       "│ q           ┆ 6           ┆          ┆ 14:00:00    ┆   ┆        ┆       ┆           ┆            │\n",
       "│ FMC60D-Aoej ┆ ruL_Ha2MKb4 ┆ 1.5489e9 ┆ 2019-01-31  ┆ … ┆ 0      ┆ 1.09  ┆ null      ┆ ACTIVE     │\n",
       "│ q           ┆ 6           ┆          ┆ 14:00:30    ┆   ┆        ┆       ┆           ┆            │\n",
       "│ FMC60D-Aoej ┆ ruL_Ha2MKb4 ┆ 1.5489e9 ┆ 2019-01-31  ┆ … ┆ 0      ┆ 1.0   ┆ null      ┆ ACTIVE     │\n",
       "│ q           ┆ 6           ┆          ┆ 14:01:00    ┆   ┆        ┆       ┆           ┆            │\n",
       "│ FMC60D-Aoej ┆ ruL_Ha2MKb4 ┆ 1.5489e9 ┆ 2019-01-31  ┆ … ┆ 0      ┆ 0.86  ┆ null      ┆ ACTIVE     │\n",
       "│ q           ┆ 6           ┆          ┆ 14:01:30    ┆   ┆        ┆       ┆           ┆            │\n",
       "│ FMC60D-Aoej ┆ ruL_Ha2MKb4 ┆ 1.5489e9 ┆ 2019-01-31  ┆ … ┆ 0      ┆ 1.11  ┆ 1.0       ┆ ACTIVE     │\n",
       "│ q           ┆ 6           ┆          ┆ 14:02:00    ┆   ┆        ┆       ┆           ┆            │\n",
       "└─────────────┴─────────────┴──────────┴─────────────┴───┴────────┴───────┴───────────┴────────────┘"
      ]
     },
     "execution_count": 13,
     "metadata": {},
     "output_type": "execute_result"
    }
   ],
   "source": [
    "df.head()"
   ]
  },
  {
   "cell_type": "code",
   "execution_count": null,
   "id": "91eb266c-93c3-44be-aa1b-ce4d451aacc8",
   "metadata": {},
   "outputs": [],
   "source": []
  }
 ],
 "metadata": {
  "kernelspec": {
   "display_name": "Python generic (scicomp-python-env/2024-01)",
   "language": "python",
   "name": "python3"
  },
  "language_info": {
   "codemirror_mode": {
    "name": "ipython",
    "version": 3
   },
   "file_extension": ".py",
   "mimetype": "text/x-python",
   "name": "python",
   "nbconvert_exporter": "python",
   "pygments_lexer": "ipython3",
   "version": "3.11.9"
  }
 },
 "nbformat": 4,
 "nbformat_minor": 5
}
