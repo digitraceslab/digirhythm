{
 "cells": [
  {
   "cell_type": "code",
   "execution_count": 6,
   "metadata": {},
   "outputs": [],
   "source": [
    "import pandas as pd\n",
    "import seaborn as sns"
   ]
  },
  {
   "cell_type": "code",
   "execution_count": 2,
   "metadata": {},
   "outputs": [],
   "source": [
    "df = pd.read_csv(\"testapp.csv\", index_col=0)"
   ]
  },
  {
   "cell_type": "code",
   "execution_count": 3,
   "metadata": {},
   "outputs": [
    {
     "data": {
      "text/html": [
       "<div>\n",
       "<style scoped>\n",
       "    .dataframe tbody tr th:only-of-type {\n",
       "        vertical-align: middle;\n",
       "    }\n",
       "\n",
       "    .dataframe tbody tr th {\n",
       "        vertical-align: top;\n",
       "    }\n",
       "\n",
       "    .dataframe thead th {\n",
       "        text-align: right;\n",
       "    }\n",
       "</style>\n",
       "<table border=\"1\" class=\"dataframe\">\n",
       "  <thead>\n",
       "    <tr style=\"text-align: right;\">\n",
       "      <th></th>\n",
       "      <th>user</th>\n",
       "      <th>device</th>\n",
       "      <th>time</th>\n",
       "      <th>datetime</th>\n",
       "      <th>app_group</th>\n",
       "    </tr>\n",
       "  </thead>\n",
       "  <tbody>\n",
       "  </tbody>\n",
       "</table>\n",
       "</div>"
      ],
      "text/plain": [
       "Empty DataFrame\n",
       "Columns: [user, device, time, datetime, app_group]\n",
       "Index: []"
      ]
     },
     "execution_count": 3,
     "metadata": {},
     "output_type": "execute_result"
    }
   ],
   "source": [
    "df[df.user == \"-N2FwY4uC3d7\"]"
   ]
  },
  {
   "cell_type": "code",
   "execution_count": 10,
   "metadata": {},
   "outputs": [],
   "source": [
    "fp = \"data/interim/momo/call_4epochs.csv\"\n",
    "df = pd.read_csv(fp)\n",
    "\n",
    "df = df.rename(columns={\"user\": \"pid\", \"device\": \"device_id\"})\n",
    "df[\"label\"] = df[\"pid\"]\n",
    "df[\"fitbit_id\"] = \"\"\n",
    "df[\"empatica_id\"] = \"\"\n",
    "df[\"platform\"] = \"android\"\n",
    "df[\"start_date\"] = \"\"\n",
    "df[\"end_date\"] = \"\"\n",
    "df.drop_duplicates(\"pid\", inplace=True)\n",
    "df.to_csv(\"../rapids/data/external/momo_participants.csv\", index=False)"
   ]
  },
  {
   "cell_type": "code",
   "execution_count": 18,
   "metadata": {},
   "outputs": [
    {
     "data": {
      "text/plain": [
       "array(['0xpBKXpjmT2Z', 'B_Im_-jpBQUk', 'GcZ27mtxU4qO', 'Gq5JcPdzhkpL',\n",
       "       'IMbZFmhAWLrd', 'RO9MDopzUfHo', 'RVjtsqp3YdQY', 'SATFc0U1XHrJ',\n",
       "       'SK80lPsgpYX3', '_swxQrt999Wh', 'c92RUDpQdRsV', 'cBjDhtzGZucJ',\n",
       "       'j7fTn6DEviHZ', 'lb983ODxEFUD', 'pu8i4FBr2FYV', 'rkFen2Hs6Lbo',\n",
       "       'wAzQNrdKZZax', '0HFyQsNTPNBu', '0xNpSktSAvGC', '1AdLnqvRKUwe',\n",
       "       '1Tbqftq0Kmbl', '2NtvG4WqOd1S', '3noC1OdWbTjA', '4U-z2a8-4LfC',\n",
       "       '6hZYX2-v01dQ', '6t6vo19UzH3U', '75wfB613llIF', '8AOxaHs8cHVh',\n",
       "       '9MCX0JjZ5Suy', '9gU8F_EbqNTI', 'C16oRDnCUik-', 'C3P6M8jAbzWq',\n",
       "       'DrwEUleq8nK5', 'E-aEppP2jQK7', 'EsgBr1bwAc8a', 'G4tweE3RMlll',\n",
       "       'I7I9bnd0e0P-', 'IeZo88vX7BB-', 'J1cfSjiD0iD9', 'JJR5thfYOcRY',\n",
       "       'Jw6kLPJl_Mbp', 'K_jQK-IT62av', 'KikOpB4mc47M', 'NPshfNiPmvKU',\n",
       "       'NUGjTNA9vZOv', 'RazDc_79nWZc', 'U5cKPUTMu0fs', 'W6WhLTeFA3RT',\n",
       "       'WplWVzXa7_-s', 'Z750C1y6MME4', 'ZTbRQ4Mm2_kj', 'dn-ArUl4FIUe',\n",
       "       'epAx1MybHBcL', 'lKUhv-oYWFvl', 'lMmhJTDCgm3t', 'lvDe4shcgoHW',\n",
       "       'nI-EnGh0Wx5W', 'oItkDMGyE_uL', 'of-IODfRRo4U', 'p4Vfk9051RL9',\n",
       "       'pmJ-knUGHbqs', 'qOGaFEyNVUMh', 'sr_IriQZ3z4W', 'tAUaiiNNwGl7',\n",
       "       'u8wYJkDYmiMT', 'vC2-2ajT7-1L', 'va6lGjaXJNXE', 'wuYxxSDu6JY4',\n",
       "       'wxzd30CsS09m', 'xugipY9dFxt4', 'zO6UTTlQxLNJ', '0R3XBtqrQVwv',\n",
       "       '5U61OcE1cgW_', '7ov4Ahb_Kg1n', 'Eb8jpyFRgQvK', 'EcDBPfOd-tji',\n",
       "       'GFOaBJ4IBCzl', 'HDpA00dUifZ5', 'JPKl7CwyYCCR', 'OGyBAH59J-Wt',\n",
       "       'Xg-KpXjUe4mI', 'XwkrMc4sWvc_', '_S4hWVWzE_mq', 'bOSChw4Ipatb',\n",
       "       'bfURzicgUZB6', 'eNE9Ye69YABc', 'kF-2gBO92QOv', 'mJ5Dhkgw-Gtx',\n",
       "       'pWvgwtV_oAb2', 'zVn4Ri3rADQI', '-N2FwY4uC3d7', '0bVAEAW6005p',\n",
       "       '5DWiLmu6c6u7', '7kH-L_CWn-kl', 'AZTAlvGEkfe8', 'CZ27TuXP_1Jv',\n",
       "       'G96iHU6Pr69i', 'IZr3eFPWcYod', 'JRmdtSaUsFUc', 'KWl-hCQ9kKN6',\n",
       "       'L7VskiPwLo54', 'MNOjIfAeZSV4', 'OP_J184Pjo-u', 'PuVT9SuHD_RF',\n",
       "       'QuF4qfi6cQN2', 'QvjcDKzUYGbN', 'T2iKQFAiXP15', 'dABMUddbdoar',\n",
       "       'dMW3MgX0wLkI', 'jiStDFQouPqo', 'lzCmb_dbsPmO', 'mxXGOhMcEVDz',\n",
       "       'nCbyPkFIqL-1', 'ne-I5IYgSnrX', 'o67VPudEvTUh', 'qTCArgn2nF4J',\n",
       "       'tZc-k6nnwAxS'], dtype=object)"
      ]
     },
     "execution_count": 18,
     "metadata": {},
     "output_type": "execute_result"
    }
   ],
   "source": [
    "fp = \"data/interim/momo/call_4epochs.csv\"\n",
    "df = pd.read_csv(fp)\n",
    "df.user.unique()"
   ]
  },
  {
   "cell_type": "code",
   "execution_count": 4,
   "metadata": {},
   "outputs": [
    {
     "name": "stdout",
     "output_type": "stream",
     "text": [
      "Processing mmm-control\n",
      "Processing mmm-bd\n",
      "Processing mmm-bpd\n",
      "Processing mmm-mdd\n"
     ]
    }
   ],
   "source": [
    "import sys\n",
    "\n",
    "sys.path.append(\"../\")\n",
    "from config import PATHS\n",
    "import niimpy\n",
    "import pandas as pd\n",
    "\n",
    "groups = [\"mmm-control\", \"mmm-bd\", \"mmm-bpd\", \"mmm-mdd\"]\n",
    "dfs = []\n",
    "for group in groups:\n",
    "    print(f\"Processing {group}\")\n",
    "    loc_df = niimpy.read_sqlite(\n",
    "        PATHS[group][\"location\"], table=\"awarelocation\", tz=\"Europe/Helsinki\"\n",
    "    )\n",
    "    loc_df[\"timestamp\"] = loc_df[\"time\"].astype(int)\n",
    "    loc_df[\"timestamp\"] = loc_df[\"timestamp\"] * 1000\n",
    "    loc_df.rename(columns={\"device\": \"device_id\"}, inplace=True)\n",
    "\n",
    "    dfs.append(loc_df)\n",
    "\n",
    "sample = pd.concat(dfs, axis=0)\n",
    "sample.to_csv(\n",
    "    \"../rapids/data/external/aware_csv/locations.csv\", index=False, quotechar='\"'\n",
    ")"
   ]
  },
  {
   "cell_type": "code",
   "execution_count": 5,
   "metadata": {},
   "outputs": [
    {
     "data": {
      "text/html": [
       "<div>\n",
       "<style scoped>\n",
       "    .dataframe tbody tr th:only-of-type {\n",
       "        vertical-align: middle;\n",
       "    }\n",
       "\n",
       "    .dataframe tbody tr th {\n",
       "        vertical-align: top;\n",
       "    }\n",
       "\n",
       "    .dataframe thead th {\n",
       "        text-align: right;\n",
       "    }\n",
       "</style>\n",
       "<table border=\"1\" class=\"dataframe\">\n",
       "  <thead>\n",
       "    <tr style=\"text-align: right;\">\n",
       "      <th></th>\n",
       "      <th>user</th>\n",
       "      <th>device_id</th>\n",
       "      <th>time</th>\n",
       "      <th>double_latitude</th>\n",
       "      <th>double_longitude</th>\n",
       "      <th>double_altitude</th>\n",
       "      <th>accuracy</th>\n",
       "      <th>double_speed</th>\n",
       "      <th>double_bearing</th>\n",
       "      <th>provider</th>\n",
       "      <th>label</th>\n",
       "      <th>datetime</th>\n",
       "      <th>timestamp</th>\n",
       "    </tr>\n",
       "  </thead>\n",
       "  <tbody>\n",
       "    <tr>\n",
       "      <th>2019-02-10 00:16:12.036000013+02:00</th>\n",
       "      <td>FMC60D-Aoejq</td>\n",
       "      <td>H7RZKjj8sjci</td>\n",
       "      <td>1.549751e+09</td>\n",
       "      <td>0.000000</td>\n",
       "      <td>0.00000</td>\n",
       "      <td>0.0</td>\n",
       "      <td>0</td>\n",
       "      <td>0.0</td>\n",
       "      <td>0.0</td>\n",
       "      <td>gps</td>\n",
       "      <td>disabled</td>\n",
       "      <td>2019-02-10 00:16:12.036000013+02:00</td>\n",
       "      <td>1549750572000</td>\n",
       "    </tr>\n",
       "    <tr>\n",
       "      <th>2019-02-10 00:27:27.502000093+02:00</th>\n",
       "      <td>FMC60D-Aoejq</td>\n",
       "      <td>H7RZKjj8sjci</td>\n",
       "      <td>1.549751e+09</td>\n",
       "      <td>60.161029</td>\n",
       "      <td>24.89235</td>\n",
       "      <td>0.0</td>\n",
       "      <td>23.077</td>\n",
       "      <td>0.0</td>\n",
       "      <td>0.0</td>\n",
       "      <td>network</td>\n",
       "      <td></td>\n",
       "      <td>2019-02-10 00:27:27.502000093+02:00</td>\n",
       "      <td>1549751247000</td>\n",
       "    </tr>\n",
       "    <tr>\n",
       "      <th>2019-02-10 00:27:27.529999970+02:00</th>\n",
       "      <td>FMC60D-Aoejq</td>\n",
       "      <td>H7RZKjj8sjci</td>\n",
       "      <td>1.549751e+09</td>\n",
       "      <td>60.161029</td>\n",
       "      <td>24.89235</td>\n",
       "      <td>0.0</td>\n",
       "      <td>23.077</td>\n",
       "      <td>0.0</td>\n",
       "      <td>0.0</td>\n",
       "      <td>network</td>\n",
       "      <td></td>\n",
       "      <td>2019-02-10 00:27:27.529999970+02:00</td>\n",
       "      <td>1549751247000</td>\n",
       "    </tr>\n",
       "    <tr>\n",
       "      <th>2019-02-10 00:31:21.459000111+02:00</th>\n",
       "      <td>FMC60D-Aoejq</td>\n",
       "      <td>H7RZKjj8sjci</td>\n",
       "      <td>1.549751e+09</td>\n",
       "      <td>60.161029</td>\n",
       "      <td>24.89235</td>\n",
       "      <td>0.0</td>\n",
       "      <td>23.022</td>\n",
       "      <td>0.0</td>\n",
       "      <td>0.0</td>\n",
       "      <td>network</td>\n",
       "      <td></td>\n",
       "      <td>2019-02-10 00:31:21.459000111+02:00</td>\n",
       "      <td>1549751481000</td>\n",
       "    </tr>\n",
       "    <tr>\n",
       "      <th>2019-02-10 00:41:21.285000086+02:00</th>\n",
       "      <td>FMC60D-Aoejq</td>\n",
       "      <td>H7RZKjj8sjci</td>\n",
       "      <td>1.549752e+09</td>\n",
       "      <td>60.161029</td>\n",
       "      <td>24.89235</td>\n",
       "      <td>0.0</td>\n",
       "      <td>23.12</td>\n",
       "      <td>0.0</td>\n",
       "      <td>0.0</td>\n",
       "      <td>network</td>\n",
       "      <td></td>\n",
       "      <td>2019-02-10 00:41:21.285000086+02:00</td>\n",
       "      <td>1549752081000</td>\n",
       "    </tr>\n",
       "  </tbody>\n",
       "</table>\n",
       "</div>"
      ],
      "text/plain": [
       "                                             user     device_id          time  \\\n",
       "2019-02-10 00:16:12.036000013+02:00  FMC60D-Aoejq  H7RZKjj8sjci  1.549751e+09   \n",
       "2019-02-10 00:27:27.502000093+02:00  FMC60D-Aoejq  H7RZKjj8sjci  1.549751e+09   \n",
       "2019-02-10 00:27:27.529999970+02:00  FMC60D-Aoejq  H7RZKjj8sjci  1.549751e+09   \n",
       "2019-02-10 00:31:21.459000111+02:00  FMC60D-Aoejq  H7RZKjj8sjci  1.549751e+09   \n",
       "2019-02-10 00:41:21.285000086+02:00  FMC60D-Aoejq  H7RZKjj8sjci  1.549752e+09   \n",
       "\n",
       "                                     double_latitude  double_longitude  \\\n",
       "2019-02-10 00:16:12.036000013+02:00         0.000000           0.00000   \n",
       "2019-02-10 00:27:27.502000093+02:00        60.161029          24.89235   \n",
       "2019-02-10 00:27:27.529999970+02:00        60.161029          24.89235   \n",
       "2019-02-10 00:31:21.459000111+02:00        60.161029          24.89235   \n",
       "2019-02-10 00:41:21.285000086+02:00        60.161029          24.89235   \n",
       "\n",
       "                                     double_altitude accuracy  double_speed  \\\n",
       "2019-02-10 00:16:12.036000013+02:00              0.0        0           0.0   \n",
       "2019-02-10 00:27:27.502000093+02:00              0.0   23.077           0.0   \n",
       "2019-02-10 00:27:27.529999970+02:00              0.0   23.077           0.0   \n",
       "2019-02-10 00:31:21.459000111+02:00              0.0   23.022           0.0   \n",
       "2019-02-10 00:41:21.285000086+02:00              0.0    23.12           0.0   \n",
       "\n",
       "                                     double_bearing provider     label  \\\n",
       "2019-02-10 00:16:12.036000013+02:00             0.0      gps  disabled   \n",
       "2019-02-10 00:27:27.502000093+02:00             0.0  network             \n",
       "2019-02-10 00:27:27.529999970+02:00             0.0  network             \n",
       "2019-02-10 00:31:21.459000111+02:00             0.0  network             \n",
       "2019-02-10 00:41:21.285000086+02:00             0.0  network             \n",
       "\n",
       "                                                               datetime  \\\n",
       "2019-02-10 00:16:12.036000013+02:00 2019-02-10 00:16:12.036000013+02:00   \n",
       "2019-02-10 00:27:27.502000093+02:00 2019-02-10 00:27:27.502000093+02:00   \n",
       "2019-02-10 00:27:27.529999970+02:00 2019-02-10 00:27:27.529999970+02:00   \n",
       "2019-02-10 00:31:21.459000111+02:00 2019-02-10 00:31:21.459000111+02:00   \n",
       "2019-02-10 00:41:21.285000086+02:00 2019-02-10 00:41:21.285000086+02:00   \n",
       "\n",
       "                                         timestamp  \n",
       "2019-02-10 00:16:12.036000013+02:00  1549750572000  \n",
       "2019-02-10 00:27:27.502000093+02:00  1549751247000  \n",
       "2019-02-10 00:27:27.529999970+02:00  1549751247000  \n",
       "2019-02-10 00:31:21.459000111+02:00  1549751481000  \n",
       "2019-02-10 00:41:21.285000086+02:00  1549752081000  "
      ]
     },
     "execution_count": 5,
     "metadata": {},
     "output_type": "execute_result"
    }
   ],
   "source": [
    "sample.head()"
   ]
  },
  {
   "cell_type": "code",
   "execution_count": 17,
   "metadata": {},
   "outputs": [
    {
     "data": {
      "text/plain": [
       "<AxesSubplot:xlabel='pid', ylabel='phone_locations_doryab_timeathome'>"
      ]
     },
     "execution_count": 17,
     "metadata": {},
     "output_type": "execute_result"
    },
    {
     "data": {
      "image/png": "[encoded data removed]",
      "text/plain": [
       "<Figure size 432x288 with 1 Axes>"
      ]
     },
     "metadata": {
      "needs_background": "light"
     },
     "output_type": "display_data"
    }
   ],
   "source": [
    "rapids_loc_df = pd.read_csv(\n",
    "    \"../rapids/data/processed/features/all_participants/all_sensor_features.csv\",\n",
    "    index_col=0,\n",
    ").reset_index()\n",
    "missing_proportion_rapid = (\n",
    "    rapids_loc_df.groupby([\"pid\"])\n",
    "    .apply(lambda x: x.isnull().mean())[\"phone_locations_doryab_timeathome\"]\n",
    "    .sort_values(ascending=False)\n",
    "    .reset_index()\n",
    ")\n",
    "\n",
    "sns.histplot(\n",
    "    y=missing_proportion_rapid[\"phone_locations_doryab_timeathome\"],\n",
    "    x=missing_proportion_rapid[\"pid\"],\n",
    ")"
   ]
  },
  {
   "cell_type": "code",
   "execution_count": 20,
   "metadata": {},
   "outputs": [
    {
     "data": {
      "text/plain": [
       "15834"
      ]
     },
     "execution_count": 20,
     "metadata": {},
     "output_type": "execute_result"
    }
   ],
   "source": [
    "len(rapids_loc_df.dropna())"
   ]
  },
  {
   "cell_type": "code",
   "execution_count": 22,
   "metadata": {},
   "outputs": [
    {
     "data": {
      "text/plain": [
       "12982"
      ]
     },
     "execution_count": 22,
     "metadata": {},
     "output_type": "execute_result"
    }
   ],
   "source": [
    "import pandas as pd\n",
    "\n",
    "# Check missing data\n",
    "fp = \"/m/cs/work/luongn1/digirhythm/data/interim/momo/location_4epochs.csv\"\n",
    "loc_df = pd.read_csv(fp, index_col=0)\n",
    "\n",
    "len(loc_df.dropna())"
   ]
  },
  {
   "cell_type": "code",
   "execution_count": 8,
   "metadata": {},
   "outputs": [
    {
     "name": "stdout",
     "output_type": "stream",
     "text": [
      "               Value  Rolling_7\n",
      "Date                           \n",
      "2021-12-01 -2.025143        NaN\n",
      "2021-12-03 -0.661786        NaN\n",
      "2021-12-04  0.852433        NaN\n",
      "2021-12-05 -0.792521        NaN\n",
      "2021-12-07  0.504987        NaN\n",
      "2021-12-09 -1.200296        NaN\n",
      "2021-12-10 -0.334501  -0.522404\n",
      "2021-12-11 -0.474945  -0.300947\n",
      "2021-12-12 -0.653329  -0.299739\n",
      "2021-12-13  1.765454  -0.169307\n",
      "2021-12-14  0.404982   0.001764\n",
      "2021-12-15 -1.260884  -0.250503\n",
      "2021-12-16  0.917862   0.052091\n",
      "2021-12-17  2.122156   0.403042\n",
      "2021-12-18  1.032465   0.618387\n",
      "2021-12-19 -1.519370   0.494666\n",
      "2021-12-20 -0.484234   0.173282\n",
      "2021-12-21  1.266911   0.296415\n",
      "2021-12-22 -0.707669   0.375446\n",
      "2021-12-23  0.443819   0.307726\n",
      "2021-12-24  0.774634   0.115222\n",
      "2021-12-25 -0.926930  -0.164691\n",
      "2021-12-26 -0.059525   0.043858\n",
      "2021-12-27 -3.241267  -0.350004\n",
      "2021-12-28 -1.024388  -0.677332\n",
      "2021-12-29 -0.252568  -0.612318\n",
      "2021-12-30 -1.247783  -0.853975\n",
      "2021-12-31  1.632411  -0.731436\n",
      "2022-01-01 -1.430141  -0.803323\n",
      "2022-01-02 -0.440044  -0.857683\n",
      "2022-01-03  0.130741  -0.375968\n",
      "2022-01-04  1.441273  -0.023730\n",
      "2022-01-05 -1.435862  -0.192772\n",
      "2022-01-06  1.163164   0.151649\n",
      "2022-01-07  0.010233  -0.080091\n",
      "2022-01-08 -0.981509  -0.016001\n",
      "2022-01-09  0.462103   0.112878\n",
      "2022-01-10  0.199060   0.122637\n",
      "2022-01-11 -0.600217  -0.169004\n",
      "2022-01-12  0.069802   0.046091\n",
      "2022-01-13 -0.385314  -0.175120\n",
      "2022-01-14  0.113517  -0.160365\n",
      "2022-01-15  0.662131   0.074440\n",
      "2022-01-16  1.586017   0.234999\n",
      "2022-01-17 -1.237815   0.029732\n",
      "2022-01-18  2.133033   0.420196\n",
      "2022-01-19 -1.952088   0.131354\n",
      "2022-01-21  0.588317   0.270445\n",
      "2022-01-22  0.280992   0.294370\n",
      "2022-01-23 -0.622700   0.110822\n",
      "2022-01-24 -0.208122  -0.145483\n",
      "2022-01-25 -0.493001  -0.039081\n",
      "2022-01-26 -0.589365  -0.427995\n",
      "2022-01-27  0.849602  -0.027754\n",
      "2022-01-28  0.357015  -0.060797\n",
      "2022-01-30  0.899600   0.027576\n",
      "2022-01-31  0.307300   0.160433\n",
      "2022-02-01  0.812862   0.306288\n"
     ]
    }
   ],
   "source": [
    "import pandas as pd\n",
    "import numpy as np\n",
    "\n",
    "pd.set_option(\"display.max_rows\", 100)\n",
    "\n",
    "# Create a sample DataFrame with dates from 01.12.2021 to 01.02.2022\n",
    "rng = pd.date_range(start=\"2021-12-01\", end=\"2022-02-01\", freq=\"D\")\n",
    "df = pd.DataFrame({\"Date\": rng, \"Value\": np.random.randn(len(rng))})\n",
    "\n",
    "# Ensure the date column is of datetime type\n",
    "df[\"Date\"] = pd.to_datetime(df[\"Date\"])\n",
    "\n",
    "# Filter December and January dates\n",
    "dec_jan_dates = df[df[\"Date\"].dt.month.isin([12, 1])][\"Date\"]\n",
    "\n",
    "# Randomly select 5 dates to remove\n",
    "dates_to_remove = dec_jan_dates.sample(n=5)\n",
    "\n",
    "# Drop the rows with the selected dates\n",
    "df = df[~df[\"Date\"].isin(dates_to_remove)]\n",
    "\n",
    "# Reset index after dropping rows\n",
    "df.reset_index(drop=True, inplace=True)\n",
    "\n",
    "df.set_index(\"Date\", inplace=True)\n",
    "\n",
    "# Perform a rolling 7-day window operation\n",
    "df[\"Rolling_7\"] = df[\"Value\"].rolling(window=7).mean()\n",
    "\n",
    "print(df)"
   ]
  },
  {
   "cell_type": "code",
   "execution_count": 9,
   "metadata": {},
   "outputs": [
    {
     "data": {
      "text/plain": [
       "50   2022-01-20\n",
       "7    2021-12-08\n",
       "59   2022-01-29\n",
       "1    2021-12-02\n",
       "5    2021-12-06\n",
       "Name: Date, dtype: datetime64[ns]"
      ]
     },
     "execution_count": 9,
     "metadata": {},
     "output_type": "execute_result"
    }
   ],
   "source": [
    "dates_to_remove"
   ]
  },
  {
   "cell_type": "code",
   "execution_count": 5,
   "metadata": {},
   "outputs": [
    {
     "data": {
      "text/plain": [
       "<AxesSubplot:>"
      ]
     },
     "execution_count": 5,
     "metadata": {},
     "output_type": "execute_result"
    },
    {
     "data": {
      "image/png": "[encoded data removed]",
      "text/plain": [
       "<Figure size 1800x720 with 2 Axes>"
      ]
     },
     "metadata": {
      "needs_background": "light"
     },
     "output_type": "display_data"
    }
   ],
   "source": [
    "import pandas as pd\n",
    "import missingno as msno\n",
    "\n",
    "df = pd.read_csv(\"dfm.csv\")\n",
    "msno.matrix(df)"
   ]
  },
  {
   "cell_type": "code",
   "execution_count": null,
   "metadata": {},
   "outputs": [],
   "source": []
  }
 ],
 "metadata": {
  "kernelspec": {
   "display_name": "Python (module anaconda/2020-03-tf1)",
   "language": "python",
   "name": "python3-tf1"
  },
  "language_info": {
   "codemirror_mode": {
    "name": "ipython",
    "version": 3
   },
   "file_extension": ".py",
   "mimetype": "text/x-python",
   "name": "python",
   "nbconvert_exporter": "python",
   "pygments_lexer": "ipython3",
   "version": "3.7.7"
  }
 },
 "nbformat": 4,
 "nbformat_minor": 4
}
